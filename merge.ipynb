{
 "cells": [
  {
   "cell_type": "code",
   "execution_count": 1,
   "metadata": {},
   "outputs": [],
   "source": [
    "# 本文件用于将两个索引表合并\n",
    "# 一般用于将eval于train两个表格合并\n",
    "import pandas as pd\n",
    "\n",
    "protocal1 = '/home/wujunting/data/ASVspoof2019/LA/ASVspoof2019_LA_cm_protocols/ASVspoof2019.LA.cm.eval.balan.txt'\n",
    "protocal2 = '/home/wujunting/data/ASVspoof2019/LA/ASVspoof2019_LA_cm_protocols/ASVspoof2019.LA.cm.train.balan.txt'\n",
    "\n",
    "orig1 = pd.read_csv(protocal1, sep=' ', header=None, names=['folder','file','default','method','source'])\n",
    "orig2 = pd.read_csv(protocal2, sep=' ', header=None, names=['folder','file','default','method','source'])\n",
    "temp = pd.concat([orig1, orig2], axis=0)\n",
    "\n",
    "temp.to_csv('/home/wujunting/data/ASVspoof2019/LA/ASVspoof2019_LA_cm_protocols/ASVspoof2019.LA.cm.train.allbalan.txt', sep=\" \", header=0)"
   ]
  },
  {
   "cell_type": "code",
   "execution_count": null,
   "metadata": {},
   "outputs": [],
   "source": []
  }
 ],
 "metadata": {
  "kernelspec": {
   "display_name": "Python 3",
   "language": "python",
   "name": "python3"
  },
  "language_info": {
   "codemirror_mode": {
    "name": "ipython",
    "version": 3
   },
   "file_extension": ".py",
   "mimetype": "text/x-python",
   "name": "python",
   "nbconvert_exporter": "python",
   "pygments_lexer": "ipython3",
   "version": "3.7.4"
  }
 },
 "nbformat": 4,
 "nbformat_minor": 2
}
