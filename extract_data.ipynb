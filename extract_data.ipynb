{
 "cells": [
  {
   "cell_type": "code",
   "execution_count": 6,
   "metadata": {},
   "outputs": [],
   "source": [
    "# 本文件用于从原始数据集中对每个方法的造假方式提取一样数量的音频，这里只是生成了相应文件的索引并存储在txt文件中\n",
    "# 因为在原始训练集中只有A1-A6六种方法的音频，在测试集中只有A7-719的音频，所以当需要将所有的方法文件都囊括到一个txt中\n",
    "# 本文件可能需要配合merge.py运行：当需要从测试集中提取一定数量的某种造假方式的音频文件放入训练集时：\n",
    "# 在本文件中分别将从train.txt和eval.txt中提取等数量的音频文件信息，分别存储在两个文件中，然后用merge.py合并这两个文件\n",
    "\n",
    "# 需要手动修改的参数有 NUM，types，protocal，以及最后生成的两个表的名字\n",
    "# 需要注意的是，对于types=train，不需要写入rest文件，可以把最后倒数第二行注释掉\n",
    "# NUM是每一个造假方式提取的音频数量\n",
    "# METHOD是造假方式的列表\n",
    "# protocal是音频文件信息\n",
    "\n",
    "\n",
    "import pandas as pd\n",
    "import numpy as np\n",
    "\n",
    "NUM = 500\n",
    "types = 'eval'\n",
    "balanced = True\n",
    "protocal = '/home/wujunting/data/ASVspoof2019/LA/ASVspoof2019_LA_cm_protocols/ASVspoof2019.LA.cm.eval.trl.txt'\n",
    "\n",
    "if types == 'train':\n",
    "    METHOD = ['-', 'A01', 'A02', 'A03', 'A04', 'A05', 'A06']\n",
    "elif types == 'eval':\n",
    "    METHOD = ['-', 'A07', 'A08', 'A09', 'A10', 'A11', 'A12', 'A13', 'A14', 'A15', 'A16', 'A17', 'A18', 'A19']\n",
    "else:\n",
    "    METHOD = ['-','A01', 'A02', 'A03', 'A04', 'A05', 'A06', 'A07', 'A08', 'A09', 'A10', 'A11', 'A12', 'A13', 'A14', 'A15', 'A16', 'A17', 'A18', 'A19']\n",
    "\n",
    "orig = pd.read_csv(protocal, sep=' ', header=None, names=['folder','file','default','method','source'])\n",
    "des = pd.DataFrame(columns=('folder','file','default','method','source'))\n",
    "res = pd.DataFrame(columns=('folder','file','default','method','source'))\n",
    "\n",
    "#count数组用于计算每一个方法已经加入了多少条音频\n",
    "count = np.zeros(len(METHOD))\n",
    "for index, row in orig.iterrows(): \n",
    "    if row.method == '-' and balanced == True:\n",
    "        # 因为'-'代表自然语音，当设定为balanced时，自然语音的数量需要和所有造假语音之和一样，当types=eval时需要将下面的6改为13\n",
    "        B_NUM = NUM * 6\n",
    "        if count[METHOD.index(row.method)] < B_NUM:\n",
    "            des = des.append(row)\n",
    "            count[METHOD.index(row.method)] += 1\n",
    "        else:\n",
    "            res = res.append(row)\n",
    "    else:            \n",
    "        if count[METHOD.index(row.method)] < NUM:\n",
    "            des = des.append(row)\n",
    "            count[METHOD.index(row.method)] += 1\n",
    "        else:\n",
    "            res = res.append(row)\n",
    "\n",
    "res.to_csv('/home/wujunting/data/ASVspoof2019/LA/ASVspoof2019_LA_cm_protocols/ASVspoof2019.LA.cm.eval.balan.rest.txt', sep=\" \", header=0)\n",
    "des.to_csv('/home/wujunting/data/ASVspoof2019/LA/ASVspoof2019_LA_cm_protocols/ASVspoof2019.LA.cm.eval.balan.txt', sep=\" \", header=0)"
   ]
  },
  {
   "cell_type": "code",
   "execution_count": null,
   "metadata": {},
   "outputs": [],
   "source": []
  }
 ],
 "metadata": {
  "kernelspec": {
   "display_name": "Python 3",
   "language": "python",
   "name": "python3"
  },
  "language_info": {
   "codemirror_mode": {
    "name": "ipython",
    "version": 3
   },
   "file_extension": ".py",
   "mimetype": "text/x-python",
   "name": "python",
   "nbconvert_exporter": "python",
   "pygments_lexer": "ipython3",
   "version": "3.7.10"
  }
 },
 "nbformat": 4,
 "nbformat_minor": 2
}
