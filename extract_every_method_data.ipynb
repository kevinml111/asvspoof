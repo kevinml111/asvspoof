{
 "cells": [
  {
   "cell_type": "code",
   "execution_count": 4,
   "metadata": {},
   "outputs": [],
   "source": [
    "# 本文件用于提取每一个方法的音频文件\n",
    "\n",
    "import pandas as pd\n",
    "import numpy as np\n",
    "\n",
    "types = 'train'\n",
    "balanced = True\n",
    "#protocal = '/home/wujunting/data/ASVspoof2019/LA/ASVspoof2019_LA_cm_protocols/ASVspoof2019.LA.cm.train.trn.txt'\n",
    "protocal = '/home/wujunting/data/ASVspoof2019/PA/ASVspoof2019_PA_cm_protocols/ASVspoof2019.PA.cm.eval.trl.txt'\n",
    "\n",
    "if types == 'train':\n",
    "    #METHOD = ['-', 'A01', 'A02', 'A03', 'A04', 'A05', 'A06']\n",
    "    METHOD = ['-', 'AA', 'AB', 'AC', 'BA', 'BB', 'BC', 'CA', 'CB', 'CC']\n",
    "else:\n",
    "    METHOD = ['-', 'A07', 'A08', 'A09', 'A10', 'A11', 'A12', 'A13', 'A14', 'A15', 'A16', 'A17', 'A18', 'A19']\n",
    "\n",
    "orig = pd.read_csv(protocal, sep=' ', header=None, names=['folder','file','default','method','source'])\n",
    "des = pd.DataFrame(columns=('folder','file','default','method','source'))\n",
    "\n",
    "count = np.zeros(len(METHOD))\n",
    "for m in METHOD:\n",
    "    des = pd.DataFrame(columns=('folder','file','default','method','source'))\n",
    "    txt_name = '/home/wujunting/data/ASVspoof2019/PA/ASVspoof2019_PA_cm_protocols/zcr_' + m + '.txt'\n",
    "    for index, row in orig.iterrows():         \n",
    "        if row.method == m:\n",
    "            des = des.append(row)\n",
    "    des.to_csv(txt_name, sep=\" \", header=0)\n"
   ]
  },
  {
   "cell_type": "code",
   "execution_count": null,
   "metadata": {},
   "outputs": [],
   "source": []
  }
 ],
 "metadata": {
  "kernelspec": {
   "display_name": "Python 3",
   "language": "python",
   "name": "python3"
  },
  "language_info": {
   "codemirror_mode": {
    "name": "ipython",
    "version": 3
   },
   "file_extension": ".py",
   "mimetype": "text/x-python",
   "name": "python",
   "nbconvert_exporter": "python",
   "pygments_lexer": "ipython3",
   "version": "3.7.10"
  }
 },
 "nbformat": 4,
 "nbformat_minor": 2
}
